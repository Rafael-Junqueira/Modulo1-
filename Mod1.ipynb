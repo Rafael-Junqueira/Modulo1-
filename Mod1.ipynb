{
  "nbformat": 4,
  "nbformat_minor": 0,
  "metadata": {
    "colab": {
      "provenance": []
    },
    "kernelspec": {
      "name": "python3",
      "display_name": "Python 3"
    },
    "language_info": {
      "name": "python"
    }
  },
  "cells": [
    {
      "cell_type": "code",
      "execution_count": null,
      "metadata": {
        "id": "5e1dAb5WFjzD"
      },
      "outputs": [],
      "source": [
        "esse arquivo está vazio, apenas para teste =)\n"
      ]
    }
  ]
}